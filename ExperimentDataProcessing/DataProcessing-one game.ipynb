{
 "cells": [
  {
   "cell_type": "code",
   "execution_count": 1,
   "metadata": {},
   "outputs": [],
   "source": [
    "import csv\n",
    "import sys"
   ]
  },
  {
   "cell_type": "code",
   "execution_count": 2,
   "metadata": {},
   "outputs": [],
   "source": [
    "#read from csv file"
   ]
  },
  {
   "cell_type": "code",
   "execution_count": 3,
   "metadata": {},
   "outputs": [
    {
     "name": "stdout",
     "output_type": "stream",
     "text": [
      "/Users/apple/anaconda3/lib/python3.7/site-packages/ipykernel_launcher.py\n"
     ]
    }
   ],
   "source": [
    "print(sys.argv[0])"
   ]
  },
  {
   "cell_type": "code",
   "execution_count": 4,
   "metadata": {},
   "outputs": [],
   "source": [
    "#function for generating file paths\n",
    "\n",
    "def generateFilePath(groupNum, variance):\n",
    "    return \"/Users/apple/Documents/Dissertation/ExperimentResults/Group\" + str(groupNum) + \"-\" + str(variance) + \".csv\""
   ]
  },
  {
   "cell_type": "code",
   "execution_count": 5,
   "metadata": {},
   "outputs": [],
   "source": [
    "#define a class for player\n",
    "class Player:\n",
    "    playerNumber = 0\n",
    "    pid = \"\"\n",
    "    degree = 0\n",
    "    label = \"\"\n",
    "    def __init__(self, pid, degree, label):\n",
    "        self.pid = pid\n",
    "        self.degree = degree\n",
    "        self.label = label\n",
    "        \n",
    "        Player.playerNumber += 1\n",
    "    "
   ]
  },
  {
   "cell_type": "code",
   "execution_count": 6,
   "metadata": {},
   "outputs": [],
   "source": [
    "#Start of one csv"
   ]
  },
  {
   "cell_type": "code",
   "execution_count": 7,
   "metadata": {},
   "outputs": [],
   "source": [
    "csvFile = open(generateFilePath(1,10))"
   ]
  },
  {
   "cell_type": "code",
   "execution_count": 8,
   "metadata": {},
   "outputs": [],
   "source": [
    "dataLines = csv.reader(csvFile)"
   ]
  },
  {
   "cell_type": "code",
   "execution_count": 9,
   "metadata": {},
   "outputs": [],
   "source": [
    "\n",
    "data = []\n",
    "roundNum = 0\n",
    "distributionDicList = []\n"
   ]
  },
  {
   "cell_type": "code",
   "execution_count": 10,
   "metadata": {},
   "outputs": [],
   "source": [
    "#csv列名['id', 'event', 'event_date', 'data_name', 'data_value']"
   ]
  },
  {
   "cell_type": "code",
   "execution_count": 11,
   "metadata": {},
   "outputs": [],
   "source": [
    "#store the content in the csv file into a list\n",
    "\n",
    "for line in dataLines:\n",
    "    data.append(line)\n",
    "    "
   ]
  },
  {
   "cell_type": "code",
   "execution_count": 12,
   "metadata": {},
   "outputs": [],
   "source": [
    "#delete records before assigning labels\n",
    "\n",
    "currentEvent = data[0][1]\n",
    "\n",
    "while currentEvent != \"PlayerLabel\":\n",
    "    #get the number of rounds\n",
    "    if data[0][3] == 'nRounds':\n",
    "        roundNum = int(data[0][4])\n",
    "    del data[0]\n",
    "    currentEvent = data[0][1]\n",
    "    \n",
    "    "
   ]
  },
  {
   "cell_type": "code",
   "execution_count": 13,
   "metadata": {},
   "outputs": [],
   "source": [
    "#start making players list\n",
    "\n",
    "players = []\n",
    "onePlayer = []\n",
    "newLine = []\n",
    "\n",
    "while data[0][1] == 'PlayerLabel':\n",
    "    \n",
    "    #read 4 lines into onePlayer\n",
    "    onePlayer = data[0:4]\n",
    "    del data[0:4]\n",
    "    \n",
    "    \n",
    "    #here comes a new player\n",
    "    for i in range(len(onePlayer)):\n",
    "        flag = onePlayer[i][3]\n",
    "        if flag == \"label\":\n",
    "            label = onePlayer[i][4]\n",
    "        elif flag == \"degree\":\n",
    "            degree = onePlayer[i][4]\n",
    "        elif flag == \"pid\":\n",
    "            pid = onePlayer[i][4]\n",
    "\n",
    "    \n",
    "    newPlayer = Player(pid, degree, label)\n",
    "    players.append(newPlayer)\n",
    "\n",
    "    \n"
   ]
  },
  {
   "cell_type": "code",
   "execution_count": 14,
   "metadata": {},
   "outputs": [],
   "source": [
    "#making a dictionary recording the numbers of degrees of all the players a dic for labels and a list for pids\n",
    "degreeDic = {}\n",
    "\n",
    "#making a dictionary for the labels of all the players\n",
    "labelDic = {}\n",
    "\n",
    "#making a list for pids of all the players\n",
    "pidList = []\n",
    "\n",
    "for i in range(len(players)):\n",
    "    pid = players[i].pid\n",
    "    degree = players[i].degree\n",
    "    label = players[i].label\n",
    "    degreeDic[pid] = degree\n",
    "    labelDic[pid] = label\n",
    "    pidList.append(players[i].pid)\n",
    "    "
   ]
  },
  {
   "cell_type": "code",
   "execution_count": 15,
   "metadata": {},
   "outputs": [
    {
     "data": {
      "text/plain": [
       "{'p1': '3',\n",
       " 'p2': '5',\n",
       " 'p3': '3',\n",
       " 'p4': '5',\n",
       " 'p5': '5',\n",
       " 'p6': '3',\n",
       " '_1': '4',\n",
       " '_2': '4',\n",
       " '_3': '4',\n",
       " '_4': '3',\n",
       " '_5': '4',\n",
       " '_6': '3'}"
      ]
     },
     "execution_count": 15,
     "metadata": {},
     "output_type": "execute_result"
    }
   ],
   "source": [
    "degreeDic"
   ]
  },
  {
   "cell_type": "code",
   "execution_count": 16,
   "metadata": {},
   "outputs": [
    {
     "data": {
      "text/plain": [
       "{'p1': 'H',\n",
       " 'p2': 'B',\n",
       " 'p3': 'C',\n",
       " 'p4': 'A',\n",
       " 'p5': 'E',\n",
       " 'p6': 'I',\n",
       " '_1': 'J',\n",
       " '_2': 'D',\n",
       " '_3': 'L',\n",
       " '_4': 'K',\n",
       " '_5': 'F',\n",
       " '_6': 'G'}"
      ]
     },
     "execution_count": 16,
     "metadata": {},
     "output_type": "execute_result"
    }
   ],
   "source": [
    "labelDic"
   ]
  },
  {
   "cell_type": "code",
   "execution_count": 17,
   "metadata": {},
   "outputs": [],
   "source": [
    "#start sharing\n",
    "\n",
    "\n",
    "for i in range(roundNum):\n",
    "    \n",
    "    #record the distribution in one round\n",
    "    \n",
    "    \n",
    "    while(data[0][1] != \"distributeBW\"):\n",
    "       \n",
    "        del data[0]\n",
    "   \n",
    "       \n",
    "    #iterate while in distribution round\n",
    "    index = 0\n",
    "    newLine = data[index]\n",
    "    currentRoundDistributionDic = {}\n",
    "    \n",
    "    \n",
    "    \n",
    "\n",
    "    #enter the process of distribution\n",
    "    while(newLine[1] == 'distributeBW'):\n",
    "\n",
    "        #pendingLinesNum = 0\n",
    "        #find the line with a pid\n",
    "        while (newLine[3] != 'pid'):\n",
    "            index += 1\n",
    "            newLine = data[index]\n",
    "\n",
    "            #record the number of pieces of distribution information that was created before printing pid\n",
    "            #pendingLinesNum += 1\n",
    "\n",
    "        #found the line with pid\n",
    "        currentPid = newLine[4]\n",
    "        currentPlayerLabel = labelDic[currentPid]\n",
    "        currentPlayerDegree = int(degreeDic[currentPid])\n",
    "        currentPlayerDistributionDic = {}\n",
    "\n",
    "\n",
    "        for i in range(currentPlayerDegree + 3):\n",
    "            dataName = data[i][3]\n",
    "            currentDistributedResource = 0\n",
    "\n",
    "            if dataName in pidList:\n",
    "                #this line is a record that recods that the current player distributed his resource to a neighbour\n",
    "                currentDistributedResource = int(data[i][4])\n",
    "                currentPlayerDistributionDic[labelDic[dataName]] = currentDistributedResource\n",
    "            elif dataName == 'resource':\n",
    "                currentDistributedResource = int(data[i][4])\n",
    "                currentPlayerDistributionDic[dataName] = currentDistributedResource\n",
    "\n",
    "        #finish storing distribution information into dictionary then delete the lines belong to the current player\n",
    "        currentRoundDistributionDic[currentPlayerLabel] = currentPlayerDistributionDic\n",
    "        del data[0:currentPlayerDegree + 3]\n",
    "\n",
    "        newLine = data[0]\n",
    "        while (newLine[1] == \"clientLogIn\"):\n",
    "            del data[0]\n",
    "            newLine = data[0]\n",
    "        index = 0\n",
    "\n",
    "    \n",
    "    #append the distribution dic of the current round to the distribution dic list\n",
    "    distributionDicList.append(currentRoundDistributionDic)\n",
    "    \n",
    "    #remove result step records\n",
    "\n",
    "    #delete \"ResultStepStart\" and \"ResultStart\"\n",
    "    del data[0:2]\n",
    "\n",
    "    while data[0][1] == 'ResultConfirmed':\n",
    "        del data[0]\n"
   ]
  },
  {
   "cell_type": "code",
   "execution_count": null,
   "metadata": {},
   "outputs": [],
   "source": []
  },
  {
   "cell_type": "code",
   "execution_count": 18,
   "metadata": {
    "scrolled": true
   },
   "outputs": [],
   "source": [
    "#get the total bonus of the human player\n",
    "playerBonus = float(data[2][4])"
   ]
  },
  {
   "cell_type": "code",
   "execution_count": 19,
   "metadata": {},
   "outputs": [
    {
     "data": {
      "text/plain": [
       "15.8"
      ]
     },
     "execution_count": 19,
     "metadata": {},
     "output_type": "execute_result"
    }
   ],
   "source": [
    "playerBonus"
   ]
  },
  {
   "cell_type": "code",
   "execution_count": 20,
   "metadata": {},
   "outputs": [
    {
     "data": {
      "text/plain": [
       "{'resource': 55, 'H': 20, 'B': 15, 'C': 20}"
      ]
     },
     "execution_count": 20,
     "metadata": {},
     "output_type": "execute_result"
    }
   ],
   "source": [
    "distributionDicList[4]['I']"
   ]
  },
  {
   "cell_type": "code",
   "execution_count": 21,
   "metadata": {},
   "outputs": [],
   "source": [
    "#test: get the number of resources given out in each round  e.g. human player"
   ]
  },
  {
   "cell_type": "code",
   "execution_count": 22,
   "metadata": {},
   "outputs": [
    {
     "name": "stdout",
     "output_type": "stream",
     "text": [
      "{'resource': 65, 'H': 13, 'J': 13, 'C': 13, 'F': 13, 'I': 13}\n",
      "{'resource': 59, 'H': 11, 'J': 11, 'C': 11, 'F': 11, 'I': 11}\n",
      "{'J': 8, 'C': 14, 'F': 8, 'I': 3, 'resource': 63, 'H': 30}\n",
      "{'resource': 56, 'H': 6, 'J': 8, 'C': 15, 'F': 7, 'I': 20}\n",
      "{'resource': 66, 'H': 25, 'J': 4, 'C': 8, 'F': 4, 'I': 25}\n",
      "[65, 55, 63, 56, 66]\n"
     ]
    }
   ],
   "source": [
    "distributedList = []\n",
    "\n",
    "for curRound in distributionDicList:\n",
    "    distributedThisRound = 0\n",
    "    humanPlayerDisDic = curRound['B']\n",
    "    print(humanPlayerDisDic)\n",
    "    for key, value in humanPlayerDisDic.items():\n",
    "        if key != 'resource':\n",
    "            distributedThisRound += value\n",
    "    \n",
    "    distributedList.append(distributedThisRound)\n",
    "\n",
    "print(distributedList)"
   ]
  },
  {
   "cell_type": "code",
   "execution_count": 23,
   "metadata": {},
   "outputs": [
    {
     "name": "stdout",
     "output_type": "stream",
     "text": [
      "[70, 181, 121, 121, 110]\n"
     ]
    }
   ],
   "source": [
    "receivedList = []\n",
    "\n",
    "for curRound in distributionDicList:\n",
    "    receivedThisRound = 0\n",
    "    \n",
    "    neighbor1 = curRound['F']\n",
    "    neighbor2 = curRound['I']\n",
    "    \n",
    "    for key, value in neighbor1.items():\n",
    "        if key != 'resource':\n",
    "            receivedThisRound += value\n",
    "            \n",
    "    for key, value in neighbor2.items():\n",
    "        if key != 'resource':\n",
    "            receivedThisRound += value \n",
    "            \n",
    "    receivedList.append(receivedThisRound)\n",
    "\n",
    "print(receivedList)"
   ]
  },
  {
   "cell_type": "code",
   "execution_count": 24,
   "metadata": {},
   "outputs": [],
   "source": [
    "#calculate the total wealth of each player"
   ]
  },
  {
   "cell_type": "code",
   "execution_count": 25,
   "metadata": {},
   "outputs": [],
   "source": [
    "totalWealthDic = {}\n",
    "\n",
    "#initiate the dic\n",
    "for label in labelDic.values():\n",
    "    totalWealthDic[label] = 0\n",
    "\n",
    "for curRound in distributionDicList:\n",
    "    \n",
    "    for dic in curRound.values():\n",
    "        \n",
    "        for key, value in dic.items():\n",
    "            \n",
    "            if key in labelDic.values():\n",
    "                \n",
    "                totalWealthDic[key] += value\n",
    "        "
   ]
  },
  {
   "cell_type": "code",
   "execution_count": 26,
   "metadata": {},
   "outputs": [
    {
     "data": {
      "text/plain": [
       "{'H': 316,\n",
       " 'B': 360,\n",
       " 'C': 274,\n",
       " 'A': 314,\n",
       " 'E': 338,\n",
       " 'I': 307,\n",
       " 'J': 280,\n",
       " 'D': 298,\n",
       " 'L': 321,\n",
       " 'K': 277,\n",
       " 'F': 280,\n",
       " 'G': 277}"
      ]
     },
     "execution_count": 26,
     "metadata": {},
     "output_type": "execute_result"
    }
   ],
   "source": [
    "totalWealthDic"
   ]
  },
  {
   "cell_type": "code",
   "execution_count": 27,
   "metadata": {},
   "outputs": [
    {
     "name": "stdout",
     "output_type": "stream",
     "text": [
      "H 3\n",
      "B 5\n",
      "C 3\n",
      "A 5\n",
      "E 5\n",
      "I 3\n",
      "J 4\n",
      "D 4\n",
      "L 4\n",
      "K 3\n",
      "F 4\n",
      "G 3\n",
      "[0, 0, 1451, 1179, 1012]\n"
     ]
    }
   ],
   "source": [
    "#dic for average wealth of players with the same degree\n",
    "    \n",
    "degreeMax = max(list(map(int, list(degreeDic.values()))))\n",
    "    \n",
    "avgWealthDegreeList = [0 for i in range(degreeMax)]\n",
    "    \n",
    "for label, wealth in totalWealthDic.items():\n",
    "        \n",
    "    degreeOfLabel = int(degreeDic[list(labelDic.keys())[list(labelDic.values()).index(label)]])\n",
    "    \n",
    "    print(label, degreeOfLabel)\n",
    "    \n",
    "    avgWealthDegreeList[degreeOfLabel - 1] += wealth\n",
    "\n",
    "\n",
    "print(avgWealthDegreeList)\n",
    "for i in range(len(avgWealthDegreeList)):\n",
    "    \n",
    "    if (avgWealthDegreeList[i] != 0):\n",
    "\n",
    "        avgWealthDegreeList[i]  = avgWealthDegreeList[i] / float(list(map(int, degreeDic.values())).count(i + 1))\n",
    "    "
   ]
  },
  {
   "cell_type": "code",
   "execution_count": 28,
   "metadata": {},
   "outputs": [
    {
     "data": {
      "text/plain": [
       "[0, 0, 290.2, 294.75, 337.3333333333333]"
      ]
     },
     "execution_count": 28,
     "metadata": {},
     "output_type": "execute_result"
    }
   ],
   "source": [
    "avgWealthDegreeList"
   ]
  },
  {
   "cell_type": "code",
   "execution_count": 29,
   "metadata": {},
   "outputs": [],
   "source": [
    "#calculate Gini coefficient"
   ]
  },
  {
   "cell_type": "code",
   "execution_count": 30,
   "metadata": {},
   "outputs": [],
   "source": [
    "import numpy as np\n",
    "\n",
    "def gini_coef(wealths):\n",
    "    cum_wealths = np.cumsum(sorted(np.append(wealths, 0)))\n",
    "    sum_wealths = cum_wealths[-1]\n",
    "    xarray = np.array(range(0, len(cum_wealths))) / np.float(len(cum_wealths)-1)\n",
    "    yarray = cum_wealths / sum_wealths\n",
    "    B = np.trapz(yarray, x=xarray)\n",
    "    A = 0.5 - B\n",
    "    return A / (A+B)\n",
    "\n"
   ]
  },
  {
   "cell_type": "code",
   "execution_count": 31,
   "metadata": {},
   "outputs": [
    {
     "data": {
      "text/plain": [
       "0.04791323448654572"
      ]
     },
     "execution_count": 31,
     "metadata": {},
     "output_type": "execute_result"
    }
   ],
   "source": [
    "gini_coef(np.array(list(totalWealthDic.values())))"
   ]
  },
  {
   "cell_type": "code",
   "execution_count": 32,
   "metadata": {},
   "outputs": [],
   "source": [
    "#calculate the sharing coefficient"
   ]
  },
  {
   "cell_type": "code",
   "execution_count": 33,
   "metadata": {},
   "outputs": [],
   "source": [
    "sharingCoefficientDic = {}\n",
    "\n",
    "#initiate the dic\n",
    "for label in labelDic.values():\n",
    "    sharingCoefficientDic[label] = 0.0\n",
    "\n",
    "isFirstRound = 1\n",
    "    \n",
    "for curRound in distributionDicList:\n",
    "    \n",
    "\n",
    "    for playerLabel, playerDisInCurRoundDic in curRound.items():\n",
    "        \n",
    "        #calculate for each player per round\n",
    "        \n",
    "        inResourceInCurRound = 0.0\n",
    "        outResourceInCurRound = 0.0\n",
    "        \n",
    "        sharingNeighborNum = 0.0\n",
    "        totalNeighborNum = 0.0\n",
    "        \n",
    "        sharingCoefficientInCurRound = 0.0\n",
    "        \n",
    "        \n",
    "        \n",
    "        for neighborLabel, value in playerDisInCurRoundDic.items():\n",
    "        \n",
    "            \n",
    "            if neighborLabel == \"resource\":\n",
    "                inResourceInCurRound = value\n",
    "            else:\n",
    "                \n",
    "                if value != 1:\n",
    "                    sharingNeighborNum += 1\n",
    "                \n",
    "                totalNeighborNum += 1\n",
    "                outResourceInCurRound += value\n",
    "        \n",
    "        sharingCoefficientInCurRound = outResourceInCurRound / inResourceInCurRound * 0.5 + sharingNeighborNum / totalNeighborNum * 0.5\n",
    "        \n",
    "        if (isFirstRound):\n",
    "            sharingCoefficientDic[playerLabel] = sharingCoefficientInCurRound\n",
    "            \n",
    "        else:\n",
    "            sharingCoefficientDic[playerLabel] = (sharingCoefficientDic[playerLabel] + sharingCoefficientInCurRound) / 2\n",
    "            \n",
    "        \n",
    "    isFirstRound = 0    \n",
    "            \n",
    "        \n",
    "        "
   ]
  },
  {
   "cell_type": "code",
   "execution_count": 34,
   "metadata": {},
   "outputs": [
    {
     "data": {
      "text/plain": [
       "{'H': 0.9729857698607699,\n",
       " 'B': 0.9978813559322034,\n",
       " 'C': 1.0138484990619137,\n",
       " 'A': 0.9907426260180497,\n",
       " 'E': 0.9090909090909091,\n",
       " 'I': 0.9769021739130435,\n",
       " 'J': 0.9490398401801352,\n",
       " 'D': 0.9335781748405104,\n",
       " 'L': 0.9709334277189137,\n",
       " 'K': 0.9485815016719176,\n",
       " 'F': 0.9287034231906591,\n",
       " 'G': 0.9433681310697439}"
      ]
     },
     "execution_count": 34,
     "metadata": {},
     "output_type": "execute_result"
    }
   ],
   "source": [
    "sharingCoefficientDic"
   ]
  },
  {
   "cell_type": "code",
   "execution_count": 35,
   "metadata": {},
   "outputs": [
    {
     "data": {
      "text/plain": [
       "0.9613046527123975"
      ]
     },
     "execution_count": 35,
     "metadata": {},
     "output_type": "execute_result"
    }
   ],
   "source": [
    "import numpy as np\n",
    "\n",
    "np.mean(list(sharingCoefficientDic.values()))"
   ]
  },
  {
   "cell_type": "code",
   "execution_count": 36,
   "metadata": {},
   "outputs": [
    {
     "data": {
      "image/png": "[encoded data removed]",
      "text/plain": [
       "<Figure size 400x400 with 1 Axes>"
      ]
     },
     "metadata": {
      "needs_background": "light"
     },
     "output_type": "display_data"
    }
   ],
   "source": [
    "import matplotlib.pyplot as plt \n",
    "import numpy as np\n",
    "\n",
    "# 创建一个点数为 8 x 6 的窗口, 并设置分辨率为 80像素/每英寸\n",
    "plt.figure(figsize=(5, 5), dpi=80)\n",
    "\n",
    "\n",
    "# 柱子总数\n",
    "N = 5\n",
    "# 包含每个柱子对应值的序列\n",
    "values = distributedList\n",
    "# 包含每个柱子下标的序列\n",
    "index = np.arange(N)\n",
    "# 柱子的宽度\n",
    "width = 0.5\n",
    "# 绘制柱状图, 每根柱子的颜色为蓝色\n",
    "p2 = plt.bar(index, values, width, label=\"num\", color=\"#87CEFA\")\n",
    "# 设置横轴标签\n",
    "plt.xlabel('ROUND')\n",
    "# 设置纵轴标签\n",
    "plt.ylabel('number of resources distributed to others')\n",
    "# 添加标题\n",
    "plt.title('Resource Distribution')\n",
    "# 添加纵横轴的刻度\n",
    "plt.xticks(index, ('round1', 'round2', 'round3', 'round4', 'round5'))\n",
    "# plt.yticks(np.arange(0, 10000, 10))\n",
    "# 添加图例\n",
    "plt.legend(loc=\"upper left\")\n",
    "plt.show()"
   ]
  },
  {
   "cell_type": "code",
   "execution_count": 37,
   "metadata": {},
   "outputs": [
    {
     "data": {
      "image/png": "[encoded data removed]",
      "text/plain": [
       "<Figure size 400x400 with 1 Axes>"
      ]
     },
     "metadata": {
      "needs_background": "light"
     },
     "output_type": "display_data"
    }
   ],
   "source": [
    "plt.figure(figsize=(5, 5), dpi=80)\n",
    "\n",
    "\n",
    "# 柱子总数\n",
    "N = 5\n",
    "# 包含每个柱子对应值的序列\n",
    "values = receivedList\n",
    "# 包含每个柱子下标的序列\n",
    "index = np.arange(N)\n",
    "# 柱子的宽度\n",
    "width = 0.5\n",
    "# 绘制柱状图, 每根柱子的颜色为绿色\n",
    "p2 = plt.bar(index, values, width, label=\"num\", color=\"#00FA9A\")\n",
    "# 设置横轴标签\n",
    "plt.xlabel('ROUND')\n",
    "# 设置纵轴标签\n",
    "plt.ylabel('number of resources received from others')\n",
    "# 添加标题\n",
    "plt.title('Resource Received')\n",
    "# 添加纵横轴的刻度\n",
    "plt.xticks(index, ('round1', 'round2', 'round3', 'round4', 'round5'))\n",
    "# plt.yticks(np.arange(0, 10000, 10))\n",
    "# 添加图例\n",
    "plt.legend(loc=\"upper right\")\n",
    "plt.show()"
   ]
  },
  {
   "cell_type": "code",
   "execution_count": 38,
   "metadata": {},
   "outputs": [
    {
     "name": "stdout",
     "output_type": "stream",
     "text": [
      "[1.0769230769230769, 3.290909090909091, 1.9206349206349207, 2.1607142857142856, 1.6666666666666667]\n"
     ]
    }
   ],
   "source": [
    "# ratio graph\n",
    "\n",
    "ratioList = []\n",
    "\n",
    "for i in range(5):\n",
    "    outRes = distributedList[i]\n",
    "    inRes = receivedList[i]\n",
    "    ratio = inRes * 1.0 / outRes\n",
    "    \n",
    "    ratioList.append(ratio)\n",
    "\n",
    "print(ratioList)"
   ]
  },
  {
   "cell_type": "code",
   "execution_count": 39,
   "metadata": {},
   "outputs": [
    {
     "data": {
      "image/png": "[encoded data removed]",
      "text/plain": [
       "<Figure size 432x288 with 1 Axes>"
      ]
     },
     "metadata": {
      "needs_background": "light"
     },
     "output_type": "display_data"
    }
   ],
   "source": [
    "x_data = ['round1','round2','round3','round4','round5']\n",
    "y_data = ratioList\n",
    "\n",
    "plt.scatter(x_data, y_data, s=50, color='black')\n",
    "plt.plot(x_data,y_data)\n",
    "plt.show()"
   ]
  },
  {
   "cell_type": "code",
   "execution_count": 40,
   "metadata": {},
   "outputs": [],
   "source": [
    "mamm = 5\n",
    "\n",
    "lista = [0 for i in range(mamm)]"
   ]
  },
  {
   "cell_type": "code",
   "execution_count": 41,
   "metadata": {},
   "outputs": [
    {
     "data": {
      "text/plain": [
       "[0, 0, 0, 0, 0]"
      ]
     },
     "execution_count": 41,
     "metadata": {},
     "output_type": "execute_result"
    }
   ],
   "source": [
    "lista"
   ]
  }
 ],
 "metadata": {
  "kernelspec": {
   "display_name": "Python 3",
   "language": "python",
   "name": "python3"
  },
  "language_info": {
   "codemirror_mode": {
    "name": "ipython",
    "version": 3
   },
   "file_extension": ".py",
   "mimetype": "text/x-python",
   "name": "python",
   "nbconvert_exporter": "python",
   "pygments_lexer": "ipython3",
   "version": "3.7.7"
  }
 },
 "nbformat": 4,
 "nbformat_minor": 4
}
